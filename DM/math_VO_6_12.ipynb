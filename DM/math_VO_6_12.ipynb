{
 "cells": [
  {
   "cell_type": "code",
   "execution_count": 1,
   "metadata": {},
   "outputs": [
    {
     "name": "stdout",
     "output_type": "stream",
     "text": [
      "1479\n"
     ]
    }
   ],
   "source": [
    "p = 2017\n",
    "g = 5\n",
    "\n",
    "a = 7\n",
    "\n",
    "print(5**7 % 2017)\n",
    "\n"
   ]
  },
  {
   "cell_type": "code",
   "execution_count": null,
   "metadata": {
    "pycharm": {
     "is_executing": true
    }
   },
   "outputs": [],
   "source": [
    "def is_prime(i):\n",
    "    for k in range(2,k):\n",
    "        if i % k == 0:\n",
    "            return False\n",
    "    return True\n",
    "\n"
   ]
  },
  {
   "cell_type": "code",
   "execution_count": 1,
   "metadata": {
    "pycharm": {
     "is_executing": true
    }
   },
   "outputs": [
    {
     "name": "stdout",
     "output_type": "stream",
     "text": [
      "1940\n"
     ]
    }
   ],
   "source": [
    "print(1856**7%2017)"
   ]
  },
  {
   "cell_type": "code",
   "execution_count": null,
   "metadata": {
    "pycharm": {
     "is_executing": true
    }
   },
   "outputs": [],
   "source": [
    "for k in range(-9,9):\n",
    "    if k%7 == 10%7:\n",
    "        print(k)"
   ]
  },
  {
   "cell_type": "code",
   "execution_count": 47,
   "metadata": {},
   "outputs": [
    {
     "name": "stdout",
     "output_type": "stream",
     "text": [
      "44\n",
      "-1\n"
     ]
    }
   ],
   "source": [
    "a = 3900000001358001102900 % 97\n",
    "b = 3**6//7*7 - 3**6\n",
    "\n",
    "print(a)\n",
    "print(b)"
   ]
  },
  {
   "cell_type": "code",
   "execution_count": null,
   "metadata": {},
   "outputs": [
    {
     "name": "stdout",
     "output_type": "stream",
     "text": [
      "Die Regel war im Zahlenraum 0 bis 100000000 insgesamt 0 Mal falsch\n"
     ]
    }
   ],
   "source": [
    "\n",
    "counter = 0\n",
    "till = 10**8\n",
    "From = 0\n",
    "for i in range(From ,till):\n",
    "    a = (i%10) + (((i//10)%10)*3) + ((((i//10)//10)%10)*2) - ((((i//10)//10)//10)%10)\n",
    "    if i % 7 == 0 & a % 7 != 0:\n",
    "        print(\"Für \" + str(i) + \" ist diese Regel falsch.\")\n",
    "        counter = counter + 1\n",
    "print(\"Die Regel war im Zahlenraum \"+ str(From) + \" bis \"+ str(till) + \" insgesamt \" + str(counter) + \" Mal falsch\")     \n",
    "\n",
    "\n",
    "    \n"
   ]
  },
  {
   "cell_type": "code",
   "execution_count": 20,
   "metadata": {},
   "outputs": [
    {
     "ename": "KeyboardInterrupt",
     "evalue": "",
     "output_type": "error",
     "traceback": [
      "\u001b[0;31m---------------------------------------------------------------------------\u001b[0m",
      "\u001b[0;31mKeyboardInterrupt\u001b[0m                         Traceback (most recent call last)",
      "Cell \u001b[0;32mIn[20], line 19\u001b[0m\n\u001b[1;32m     16\u001b[0m     \u001b[39melse\u001b[39;00m:\n\u001b[1;32m     17\u001b[0m         \u001b[39mreturn\u001b[39;00m \u001b[39mFalse\u001b[39;00m\n\u001b[0;32m---> 19\u001b[0m \u001b[39mprint\u001b[39m(is_generator2(\u001b[39m100003\u001b[39;49m, \u001b[39m100019\u001b[39;49m))\n",
      "Cell \u001b[0;32mIn[20], line 9\u001b[0m, in \u001b[0;36mis_generator2\u001b[0;34m(gen, prime)\u001b[0m\n\u001b[1;32m      7\u001b[0m \u001b[39mfor\u001b[39;00m i \u001b[39min\u001b[39;00m \u001b[39mrange\u001b[39m(\u001b[39m1\u001b[39m, prime):\n\u001b[1;32m      8\u001b[0m     result \u001b[39m=\u001b[39m result \u001b[39m+\u001b[39m i\n\u001b[0;32m----> 9\u001b[0m     gen_res \u001b[39m=\u001b[39m gen_res \u001b[39m+\u001b[39m (\u001b[39mpow\u001b[39;49m(gen,i)\u001b[39m%\u001b[39mprime)\n\u001b[1;32m     10\u001b[0m     count \u001b[39m=\u001b[39m i\n\u001b[1;32m     11\u001b[0m     res \u001b[39m=\u001b[39m result\n",
      "\u001b[0;31mKeyboardInterrupt\u001b[0m: "
     ]
    }
   ],
   "source": [
    "count = 0\n",
    "res = 0\n",
    "gres = 0\n",
    "def is_generator2(gen, prime):\n",
    "    result = 0\n",
    "    gen_res = 0\n",
    "    for i in range(1, prime):\n",
    "        result = result + i\n",
    "        gen_res = gen_res + (pow(gen,i)%prime)\n",
    "        count = i\n",
    "        res = result\n",
    "        gres = gen_res\n",
    "    \n",
    "    if(result == gen_res):\n",
    "        return True\n",
    "    else:\n",
    "        return False\n",
    "\n",
    "print(is_generator2(100003, 100019))"
   ]
  }
 ],
 "metadata": {
  "kernelspec": {
   "display_name": "Python 3.9.6 64-bit",
   "language": "python",
   "name": "python3"
  },
  "language_info": {
   "codemirror_mode": {
    "name": "ipython",
    "version": 3
   },
   "file_extension": ".py",
   "mimetype": "text/x-python",
   "name": "python",
   "nbconvert_exporter": "python",
   "pygments_lexer": "ipython3",
   "version": "3.9.6"
  },
  "orig_nbformat": 4,
  "vscode": {
   "interpreter": {
    "hash": "31f2aee4e71d21fbe5cf8b01ff0e069b9275f58929596ceb00d14d90e3e16cd6"
   }
  }
 },
 "nbformat": 4,
 "nbformat_minor": 2
}
